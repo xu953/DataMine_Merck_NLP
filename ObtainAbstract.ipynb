{
  "nbformat": 4,
  "nbformat_minor": 0,
  "metadata": {
    "colab": {
      "name": "ObtainAbstract.ipynb",
      "provenance": [],
      "collapsed_sections": []
    },
    "kernelspec": {
      "name": "python3",
      "display_name": "Python 3"
    },
    "language_info": {
      "name": "python"
    }
  },
  "cells": [
    {
      "cell_type": "code",
      "metadata": {
        "id": "UMu-KsVS17uB"
      },
      "source": [
        "!pip install metapub"
      ],
      "execution_count": null,
      "outputs": []
    },
    {
      "cell_type": "code",
      "metadata": {
        "id": "-cRvCEvx7j5h",
        "colab": {
          "base_uri": "https://localhost:8080/"
        },
        "outputId": "403afdfd-d1c9-4496-b906-4c862b01bdc9"
      },
      "source": [
        "from google.colab import drive\n",
        "drive.mount('/content/drive')"
      ],
      "execution_count": null,
      "outputs": [
        {
          "output_type": "stream",
          "name": "stdout",
          "text": [
            "Drive already mounted at /content/drive; to attempt to forcibly remount, call drive.mount(\"/content/drive\", force_remount=True).\n"
          ]
        }
      ]
    },
    {
      "cell_type": "code",
      "metadata": {
        "colab": {
          "base_uri": "https://localhost:8080/"
        },
        "id": "LQGexH2H7l51",
        "outputId": "77fdc7e0-7901-44bc-b516-37a244efe9c4"
      },
      "source": [
        "%cd /content/drive/MyDrive/Colab_Notebooks/Merck_NLP_Project"
      ],
      "execution_count": null,
      "outputs": [
        {
          "output_type": "stream",
          "name": "stdout",
          "text": [
            "/content/drive/MyDrive/Colab_Notebooks/Merck_NLP_Project\n"
          ]
        }
      ]
    },
    {
      "cell_type": "code",
      "metadata": {
        "id": "SKYLTMrZ2iKJ",
        "colab": {
          "base_uri": "https://localhost:8080/"
        },
        "outputId": "67e76958-1bea-497e-f164-f785f427d727"
      },
      "source": [
        "from metapub import PubMedFetcher\n",
        "import json\n",
        "\n",
        "fetch = PubMedFetcher()\n",
        "\n",
        "# Get certain number of pmids matching keyword search\n",
        "pmids = fetch.pmids_for_query('method LC-MS/MS internal standard', retmax=10)\n",
        "print(pmids)\n",
        "# Get abstract for each article and write to JSON file\n",
        "\n",
        "with open(\"PubmedAbstracts_dataset.json\", \"w\") as JSONfile:\n",
        "  for pmid in pmids:\n",
        "    abstract = fetch.article_by_pmid(pmid).abstract\n",
        "    json.dump(abstract, JSONfile)\n",
        "    JSONfile.write(\"   \") # Abstracts seperated by three spaces"
      ],
      "execution_count": null,
      "outputs": [
        {
          "output_type": "stream",
          "name": "stdout",
          "text": [
            "['34488273', '34482182', '34472672', '34469601', '34463312', '34461730', '34461080', '34438277', '34438247', '34437418']\n"
          ]
        }
      ]
    },
    {
      "cell_type": "code",
      "metadata": {
        "colab": {
          "base_uri": "https://localhost:8080/",
          "height": 120
        },
        "id": "BlSwyAVWfGWr",
        "outputId": "53bc1302-82f5-4bc3-a435-d85d58624947"
      },
      "source": [
        "fetch.article_by_pmid(34482182).abstract"
      ],
      "execution_count": null,
      "outputs": [
        {
          "output_type": "execute_result",
          "data": {
            "application/vnd.google.colaboratory.intrinsic+json": {
              "type": "string"
            },
            "text/plain": [
              "'Interest in human and experimental animal metabolism of substrates containing an odd number of carbons capable of fueling the tricarboxylic acid cycle such as heptanoic acid has motivated us to develop and validate a selective and specific liquid chromatographytandem mass spectrometric method for the simultaneous, quantitative determination of the ketone body byproducts 3-hydroxypentanoic acid and 3-oxopentanoic acid in plasma. Human plasma samples were protein-precipitated with methanol containing 0.2% formic acid. Chromatographic resolution was achieved on a Phenomenex Luna C18 column using gradient elution with mobile phases of water containing 0.1% formic acid and methanol containing 0.1% formic acid at 0.3\\xa0mL/min flow rate. The retention times of 3-hydroxypentanoic acid, 3-oxopentanoic acid and sulbactam (internal standard) were 3.85, 4.23, and 5.11\\xa0min, respectively. Validation was conducted in accordance with United States Food and Drug Administration guidance. The validated range of 3-hydroxypentanoic acid was 0.078-5\\xa0µg/mL and 0.156-10\\xa0µg/mL for 3-oxopentanoic acid. The method was accurate and precise over this range and exhibited 10-fold dilution integrity in human plasma. Recovery>\\xa088% was achieved for analytes and internal standard. There was no matrix effect observed in human plasma. Both 3-hydroxypentanoic acid and 3-oxopentanoic acid were stable across conditions including autosampler, benchtop and freeze-thaw, as well as demonstrated long-term stability at -80\\xa0°C. The method was applied to the measurement of 3-hydroxypentanoic acid and 3-oxopentanoic acid concentrations in plasma from subjects receiving the triglyceride triheptanoin (as a source of heptanoate) for the experimental treatment of glucose transporter type I deficiency (G1D) syndrome.'"
            ]
          },
          "metadata": {},
          "execution_count": 7
        }
      ]
    }
  ]
}